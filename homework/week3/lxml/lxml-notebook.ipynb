{
 "metadata": {
  "name": ""
 },
 "nbformat": 3,
 "nbformat_minor": 0,
 "worksheets": [
  {
   "cells": [
    {
     "cell_type": "heading",
     "level": 1,
     "metadata": {},
     "source": [
      "Introduction to `lxml`"
     ]
    },
    {
     "cell_type": "heading",
     "level": 2,
     "metadata": {},
     "source": [
      "Parsing XML"
     ]
    },
    {
     "cell_type": "markdown",
     "metadata": {},
     "source": [
      "The `lxml` package for Python is a high-speed package for creating and parsing XML.  It also has some primitive web-scraping capabilities.  Let's jump right in.\n",
      "First, let's import `etree` from `lxml`.  Then define a `string` variable with some XML in it."
     ]
    },
    {
     "cell_type": "code",
     "collapsed": false,
     "input": [
      "from lxml import etree\n",
      "xml_text = \"<xml><book id='Genesis'><chapter id='1'><verse id='1'>In the beginning when God created the heavens and the earth,</verse><verse id='2'>the earth was a formless void and darkness covered the face of the deep, while a wind from God swept over the face of the waters.</verse></chapter><chapter id='2'><verse id='1'>Thus the heavens and the earth were finished, and all their multitude.</verse><verse id='2'>And on the seventh day God finished the work that he had done, and he rested on the seventh day from all the work that he had done.</verse></chapter></book></xml>\""
     ],
     "language": "python",
     "metadata": {},
     "outputs": [],
     "prompt_number": 2
    },
    {
     "cell_type": "markdown",
     "metadata": {},
     "source": [
      "The basic `class` in `lxml` is the `Element class`.  You can convert a `string` to an `etree._Element` object with the `etree.fromstring()` function."
     ]
    },
    {
     "cell_type": "code",
     "collapsed": false,
     "input": [
      "xml = etree.fromstring(xml_text)\n",
      "print(type(xml))\n",
      "print(xml)"
     ],
     "language": "python",
     "metadata": {},
     "outputs": [
      {
       "output_type": "stream",
       "stream": "stdout",
       "text": [
        "<class 'lxml.etree._Element'>\n",
        "<Element xml at 0x7fc97c045af0>\n"
       ]
      }
     ],
     "prompt_number": 3
    },
    {
     "cell_type": "markdown",
     "metadata": {},
     "source": [
      "In order to print the actual contents of an `Element`, we need to use the `etree.tostring()` function."
     ]
    },
    {
     "cell_type": "code",
     "collapsed": false,
     "input": [
      "print(etree.tostring(xml, encoding = 'unicode'))"
     ],
     "language": "python",
     "metadata": {},
     "outputs": [
      {
       "output_type": "stream",
       "stream": "stdout",
       "text": [
        "<xml><book id=\"Genesis\"><chapter id=\"1\"><verse id=\"1\">In the beginning when God created the heavens and the earth,</verse><verse id=\"2\">the earth was a formless void and darkness covered the face of the deep, while a wind from God swept over the face of the waters.</verse></chapter><chapter id=\"2\"><verse id=\"1\">Thus the heavens and the earth were finished, and all their multitude.</verse><verse id=\"2\">And on the seventh day God finished the work that he had done, and he rested on the seventh day from all the work that he had done.</verse></chapter></book></xml>\n"
       ]
      }
     ],
     "prompt_number": 8
    },
    {
     "cell_type": "markdown",
     "metadata": {},
     "source": [
      "Notice how much more readable it is with the `pretty print` parameter set to `True`."
     ]
    },
    {
     "cell_type": "code",
     "collapsed": false,
     "input": [
      "print(etree.tostring(xml, encoding = 'unicode', pretty_print = True))"
     ],
     "language": "python",
     "metadata": {},
     "outputs": [
      {
       "output_type": "stream",
       "stream": "stdout",
       "text": [
        "<xml>\n",
        "  <book id=\"Genesis\">\n",
        "    <chapter id=\"1\">\n",
        "      <verse id=\"1\">In the beginning when God created the heavens and the earth,</verse>\n",
        "      <verse id=\"2\">the earth was a formless void and darkness covered the face of the deep, while a wind from God swept over the face of the waters.</verse>\n",
        "    </chapter>\n",
        "    <chapter id=\"2\">\n",
        "      <verse id=\"1\">Thus the heavens and the earth were finished, and all their multitude.</verse>\n",
        "      <verse id=\"2\">And on the seventh day God finished the work that he had done, and he rested on the seventh day from all the work that he had done.</verse>\n",
        "    </chapter>\n",
        "  </book>\n",
        "</xml>\n",
        "\n"
       ]
      }
     ],
     "prompt_number": 9
    },
    {
     "cell_type": "markdown",
     "metadata": {},
     "source": [
      "`Elements` are like `lists`.  Watch what we can do:"
     ]
    },
    {
     "cell_type": "code",
     "collapsed": false,
     "input": [
      "len(xml) #this is the contents <xml> tag"
     ],
     "language": "python",
     "metadata": {},
     "outputs": [
      {
       "output_type": "pyout",
       "prompt_number": 10,
       "text": [
        "1"
       ]
      }
     ],
     "prompt_number": 10
    },
    {
     "cell_type": "code",
     "collapsed": false,
     "input": [
      "len(xml[0]) #this is the contents of the <book> tag."
     ],
     "language": "python",
     "metadata": {},
     "outputs": [
      {
       "output_type": "pyout",
       "prompt_number": 11,
       "text": [
        "2"
       ]
      }
     ],
     "prompt_number": 11
    },
    {
     "cell_type": "code",
     "collapsed": false,
     "input": [
      "len(xml[0][0]) #this is the contents of the first <chapter> tag."
     ],
     "language": "python",
     "metadata": {},
     "outputs": []
    },
    {
     "cell_type": "code",
     "collapsed": false,
     "input": [
      "len(xml[0][1]) #and the length of the second <chapter> tag, etc."
     ],
     "language": "python",
     "metadata": {},
     "outputs": []
    },
    {
     "cell_type": "markdown",
     "metadata": {},
     "source": [
      "To access the individual members of the list, however, we cannot just `print` them.  As we saw above, this only returns an `Element` declaration.  Instead, we have to use the `iter()` method on the `Element` and then loop through the results, using `etree.tostring` on each one."
     ]
    },
    {
     "cell_type": "code",
     "collapsed": false,
     "input": [
      "for element in xml.iter():\n",
      "    print(etree.tostring(element, encoding = 'unicode'))"
     ],
     "language": "python",
     "metadata": {},
     "outputs": [
      {
       "output_type": "stream",
       "stream": "stdout",
       "text": [
        "<xml><book id=\"Genesis\"><chapter id=\"1\"><verse id=\"1\">In the beginning when God created the heavens and the earth,</verse><verse id=\"2\">the earth was a formless void and darkness covered the face of the deep, while a wind from God swept over the face of the waters.</verse></chapter><chapter id=\"2\"><verse id=\"1\">Thus the heavens and the earth were finished, and all their multitude.</verse><verse id=\"2\">And on the seventh day God finished the work that he had done, and he rested on the seventh day from all the work that he had done.</verse></chapter></book></xml>\n",
        "<book id=\"Genesis\"><chapter id=\"1\"><verse id=\"1\">In the beginning when God created the heavens and the earth,</verse><verse id=\"2\">the earth was a formless void and darkness covered the face of the deep, while a wind from God swept over the face of the waters.</verse></chapter><chapter id=\"2\"><verse id=\"1\">Thus the heavens and the earth were finished, and all their multitude.</verse><verse id=\"2\">And on the seventh day God finished the work that he had done, and he rested on the seventh day from all the work that he had done.</verse></chapter></book>\n",
        "<chapter id=\"1\"><verse id=\"1\">In the beginning when God created the heavens and the earth,</verse><verse id=\"2\">the earth was a formless void and darkness covered the face of the deep, while a wind from God swept over the face of the waters.</verse></chapter>\n",
        "<verse id=\"1\">In the beginning when God created the heavens and the earth,</verse>\n",
        "<verse id=\"2\">the earth was a formless void and darkness covered the face of the deep, while a wind from God swept over the face of the waters.</verse>\n",
        "<chapter id=\"2\"><verse id=\"1\">Thus the heavens and the earth were finished, and all their multitude.</verse><verse id=\"2\">And on the seventh day God finished the work that he had done, and he rested on the seventh day from all the work that he had done.</verse></chapter>\n",
        "<verse id=\"1\">Thus the heavens and the earth were finished, and all their multitude.</verse>\n",
        "<verse id=\"2\">And on the seventh day God finished the work that he had done, and he rested on the seventh day from all the work that he had done.</verse>\n"
       ]
      }
     ],
     "prompt_number": 12
    },
    {
     "cell_type": "markdown",
     "metadata": {},
     "source": [
      "But look carefully at this.  Do you see anything unexpected?  Maybe it is easier to see with `pretty_print`."
     ]
    },
    {
     "cell_type": "code",
     "collapsed": false,
     "input": [
      "for element in xml.iter():\n",
      "    print(etree.tostring(element, encoding = 'unicode', pretty_print = True))"
     ],
     "language": "python",
     "metadata": {},
     "outputs": [
      {
       "output_type": "stream",
       "stream": "stdout",
       "text": [
        "<xml>\n",
        "  <book id=\"Genesis\">\n",
        "    <chapter id=\"1\">\n",
        "      <verse id=\"1\">In the beginning when God created the heavens and the earth,</verse>\n",
        "      <verse id=\"2\">the earth was a formless void and darkness covered the face of the deep, while a wind from God swept over the face of the waters.</verse>\n",
        "    </chapter>\n",
        "    <chapter id=\"2\">\n",
        "      <verse id=\"1\">Thus the heavens and the earth were finished, and all their multitude.</verse>\n",
        "      <verse id=\"2\">And on the seventh day God finished the work that he had done, and he rested on the seventh day from all the work that he had done.</verse>\n",
        "    </chapter>\n",
        "  </book>\n",
        "</xml>\n",
        "\n",
        "<book id=\"Genesis\">\n",
        "  <chapter id=\"1\">\n",
        "    <verse id=\"1\">In the beginning when God created the heavens and the earth,</verse>\n",
        "    <verse id=\"2\">the earth was a formless void and darkness covered the face of the deep, while a wind from God swept over the face of the waters.</verse>\n",
        "  </chapter>\n",
        "  <chapter id=\"2\">\n",
        "    <verse id=\"1\">Thus the heavens and the earth were finished, and all their multitude.</verse>\n",
        "    <verse id=\"2\">And on the seventh day God finished the work that he had done, and he rested on the seventh day from all the work that he had done.</verse>\n",
        "  </chapter>\n",
        "</book>\n",
        "\n",
        "<chapter id=\"1\">\n",
        "  <verse id=\"1\">In the beginning when God created the heavens and the earth,</verse>\n",
        "  <verse id=\"2\">the earth was a formless void and darkness covered the face of the deep, while a wind from God swept over the face of the waters.</verse>\n",
        "</chapter>\n",
        "\n",
        "<verse id=\"1\">In the beginning when God created the heavens and the earth,</verse>\n",
        "\n",
        "<verse id=\"2\">the earth was a formless void and darkness covered the face of the deep, while a wind from God swept over the face of the waters.</verse>\n",
        "\n",
        "<chapter id=\"2\">\n",
        "  <verse id=\"1\">Thus the heavens and the earth were finished, and all their multitude.</verse>\n",
        "  <verse id=\"2\">And on the seventh day God finished the work that he had done, and he rested on the seventh day from all the work that he had done.</verse>\n",
        "</chapter>\n",
        "\n",
        "<verse id=\"1\">Thus the heavens and the earth were finished, and all their multitude.</verse>\n",
        "\n",
        "<verse id=\"2\">And on the seventh day God finished the work that he had done, and he rested on the seventh day from all the work that he had done.</verse>\n",
        "\n"
       ]
      }
     ],
     "prompt_number": 13
    },
    {
     "cell_type": "markdown",
     "metadata": {},
     "source": [
      "Do you see it now?  Each `Element` in the iterator contains all of its sub-elements as well.  Just remember this when printing or accessing parts of the tree"
     ]
    },
    {
     "cell_type": "markdown",
     "metadata": {},
     "source": [
      "`Elements` have tags that you can get at with the `tag` method."
     ]
    },
    {
     "cell_type": "code",
     "collapsed": false,
     "input": [
      "for element in xml.iter():\n",
      "    print(element.tag)"
     ],
     "language": "python",
     "metadata": {},
     "outputs": [
      {
       "output_type": "stream",
       "stream": "stdout",
       "text": [
        "xml\n",
        "book\n",
        "chapter\n",
        "verse\n",
        "verse\n",
        "chapter\n",
        "verse\n",
        "verse\n"
       ]
      }
     ],
     "prompt_number": 14
    },
    {
     "cell_type": "markdown",
     "metadata": {},
     "source": [
      "And the attributes of the `Elements` are available on the individual `Elements` like dictionaries.  You can access these with the `etree.get()` function."
     ]
    },
    {
     "cell_type": "code",
     "collapsed": false,
     "input": [
      "for element in xml.iter():\n",
      "    print(element.tag, '==', element.get('id'))"
     ],
     "language": "python",
     "metadata": {},
     "outputs": [
      {
       "output_type": "stream",
       "stream": "stdout",
       "text": [
        "xml == None\n",
        "book == Genesis\n",
        "chapter == 1\n",
        "verse == 1\n",
        "verse == 2\n",
        "chapter == 2\n",
        "verse == 1\n",
        "verse == 2\n"
       ]
      }
     ],
     "prompt_number": 15
    },
    {
     "cell_type": "markdown",
     "metadata": {},
     "source": [
      "You can also get at these attributes with the `attrib` method.  Notice how much they look like dictionary entries."
     ]
    },
    {
     "cell_type": "code",
     "collapsed": false,
     "input": [
      "for element in xml.iter():\n",
      "    print(element.tag, element.attrib)"
     ],
     "language": "python",
     "metadata": {},
     "outputs": [
      {
       "output_type": "stream",
       "stream": "stdout",
       "text": [
        "xml {}\n",
        "book {'id': 'Genesis'}\n",
        "chapter {'id': '1'}\n",
        "verse {'id': '1'}\n",
        "verse {'id': '2'}\n",
        "chapter {'id': '2'}\n",
        "verse {'id': '1'}\n",
        "verse {'id': '2'}\n"
       ]
      }
     ],
     "prompt_number": 16
    },
    {
     "cell_type": "markdown",
     "metadata": {},
     "source": [
      "You can also pass the `iter` method the name of the tags you want to retrieve."
     ]
    },
    {
     "cell_type": "code",
     "collapsed": false,
     "input": [
      "for element in xml.iter('verse'):\n",
      "    print(element.tag, element.attrib)"
     ],
     "language": "python",
     "metadata": {},
     "outputs": [
      {
       "output_type": "stream",
       "stream": "stdout",
       "text": [
        "verse {'id': '1'}\n",
        "verse {'id': '2'}\n",
        "verse {'id': '1'}\n",
        "verse {'id': '2'}\n"
       ]
      }
     ],
     "prompt_number": 17
    },
    {
     "cell_type": "markdown",
     "metadata": {},
     "source": [
      "One thing to pay attention to is what type of object each method returns.  Check it out!"
     ]
    },
    {
     "cell_type": "code",
     "collapsed": false,
     "input": [
      "print('The `iter` method returns:', type(xml.iter()))\n",
      "print('The `tag` method returns:', type(xml.tag))\n",
      "print('The `get` method returns:', type(xml[0].get('id')))\n",
      "print('The `attrib` method returns:', type(xml[0].attrib))\n",
      "#Even though this isn't a Python `dict`, we can still access it like one.\n",
      "print(xml[0].attrib)\n",
      "print(xml[0].attrib['id'])\n",
      "print(xml[0].items())"
     ],
     "language": "python",
     "metadata": {},
     "outputs": [
      {
       "output_type": "stream",
       "stream": "stdout",
       "text": [
        "The `iter` method returns: <class 'lxml.etree.ElementDepthFirstIterator'>\n",
        "The `tag` method returns: <class 'str'>\n",
        "The `get` method returns: <class 'str'>\n",
        "The `attrib` method returns: <class 'lxml.etree._Attrib'>\n",
        "{'id': 'Genesis'}\n",
        "Genesis\n",
        "[('id', 'Genesis')]\n"
       ]
      }
     ],
     "prompt_number": 18
    },
    {
     "cell_type": "markdown",
     "metadata": {},
     "source": [
      "`Elements` also have `text`."
     ]
    },
    {
     "cell_type": "code",
     "collapsed": false,
     "input": [
      "for element in xml.iter('verse'):\n",
      "    print(element.tag, element.attrib['id'], '-', element.text)\n",
      "print('The `text` method returns:', type(xml[0][0][0].text))"
     ],
     "language": "python",
     "metadata": {},
     "outputs": [
      {
       "output_type": "stream",
       "stream": "stdout",
       "text": [
        "verse 1 - In the beginning when God created the heavens and the earth,\n",
        "verse 2 - the earth was a formless void and darkness covered the face of the deep, while a wind from God swept over the face of the waters.\n",
        "verse 1 - Thus the heavens and the earth were finished, and all their multitude.\n",
        "verse 2 - And on the seventh day God finished the work that he had done, and he rested on the seventh day from all the work that he had done.\n",
        "The `text` method returns: <class 'str'>\n"
       ]
      }
     ],
     "prompt_number": 19
    },
    {
     "cell_type": "markdown",
     "metadata": {},
     "source": [
      "You can also supports XPath searches on `Elements`."
     ]
    },
    {
     "cell_type": "code",
     "collapsed": false,
     "input": [
      "print(xml.xpath('book/chapter/verse'))"
     ],
     "language": "python",
     "metadata": {},
     "outputs": [
      {
       "output_type": "stream",
       "stream": "stdout",
       "text": [
        "[<Element verse at 0x7fc97c04d2d0>, <Element verse at 0x7fc97c04d640>, <Element verse at 0x7fc97c04d5a0>, <Element verse at 0x7fc97c04de60>]\n"
       ]
      }
     ],
     "prompt_number": 26
    },
    {
     "cell_type": "markdown",
     "metadata": {},
     "source": [
      "This searches only the direct child nodes of `<xml>`, i.e., the book tag.\n",
      "There is no direct child of `<xml>` that has a verse tag.  But..."
     ]
    },
    {
     "cell_type": "code",
     "collapsed": false,
     "input": [
      "print(xml[0][0].xpath('verse'))\n",
      "#to get at all tags throughout the tree...\n",
      "print(xml.xpath('.//verse'))"
     ],
     "language": "python",
     "metadata": {},
     "outputs": []
    },
    {
     "cell_type": "markdown",
     "metadata": {},
     "source": [
      "To get at the actual content, we need to loop over the `Elements`."
     ]
    },
    {
     "cell_type": "code",
     "collapsed": false,
     "input": [
      "for verses in xml.xpath('.//verse'):\n",
      "    print(etree.tostring(verses, encoding = 'unicode'))"
     ],
     "language": "python",
     "metadata": {},
     "outputs": []
    },
    {
     "cell_type": "markdown",
     "metadata": {},
     "source": [
      "A short introduction to the XPATH expressions in `lxml` can be found <a href='http://effbot.org/zone/element-xpath.htm'>here</a>."
     ]
    },
    {
     "cell_type": "heading",
     "level": 2,
     "metadata": {},
     "source": [
      "Scraping the web"
     ]
    },
    {
     "cell_type": "markdown",
     "metadata": {},
     "source": [
      "Another way to parse XML is with the `etree.parse` function.  Notice that it returns an `ElementTree` instead of an `Element`."
     ]
    },
    {
     "cell_type": "code",
     "collapsed": false,
     "input": [
      "from io import StringIO\n",
      "xml2 = etree.parse(StringIO(xml_text))\n",
      "print(type(xml2))\n",
      "print(etree.tostring(xml2, encoding = 'unicode', pretty_print = True))"
     ],
     "language": "python",
     "metadata": {},
     "outputs": []
    },
    {
     "cell_type": "markdown",
     "metadata": {},
     "source": [
      "In order to get an `Element` out, we need to use the `getroot` method."
     ]
    },
    {
     "cell_type": "code",
     "collapsed": false,
     "input": [
      "print(type(xml2.getroot()))"
     ],
     "language": "python",
     "metadata": {},
     "outputs": []
    },
    {
     "cell_type": "markdown",
     "metadata": {},
     "source": [
      "But the _great_ thing about the `etree.parse` function is that you can put a URL in there and get `lxml` to parse that for you."
     ]
    },
    {
     "cell_type": "code",
     "collapsed": true,
     "input": [
      "from lxml import etree\n",
      "xml3 = etree.parse('http://www.bibelwissenschaft.de/online-bibeln/menge-bibel/bibeltext/', parser = etree.HTMLParser())\n",
      "print(etree.tostring(xml3, encoding = 'unicode'))"
     ],
     "language": "python",
     "metadata": {},
     "outputs": [
      {
       "ename": "NameError",
       "evalue": "name 'etree' is not defined",
       "output_type": "pyerr",
       "traceback": [
        "\u001b[0;31m---------------------------------------------------------------------------\u001b[0m\n\u001b[0;31mNameError\u001b[0m                                 Traceback (most recent call last)",
        "\u001b[0;32m<ipython-input-3-f50097781a0e>\u001b[0m in \u001b[0;36m<module>\u001b[0;34m()\u001b[0m\n\u001b[0;32m----> 1\u001b[0;31m \u001b[0mxml3\u001b[0m \u001b[0;34m=\u001b[0m \u001b[0metree\u001b[0m\u001b[0;34m.\u001b[0m\u001b[0mparse\u001b[0m\u001b[0;34m(\u001b[0m\u001b[0;34m'http://www.bibelwissenschaft.de/online-bibeln/menge-bibel/bibeltext/'\u001b[0m\u001b[0;34m,\u001b[0m \u001b[0mparser\u001b[0m \u001b[0;34m=\u001b[0m \u001b[0metree\u001b[0m\u001b[0;34m.\u001b[0m\u001b[0mHTMLParser\u001b[0m\u001b[0;34m(\u001b[0m\u001b[0;34m)\u001b[0m\u001b[0;34m)\u001b[0m\u001b[0;34m\u001b[0m\u001b[0m\n\u001b[0m\u001b[1;32m      2\u001b[0m \u001b[0mprint\u001b[0m\u001b[0;34m(\u001b[0m\u001b[0metree\u001b[0m\u001b[0;34m.\u001b[0m\u001b[0mtostring\u001b[0m\u001b[0;34m(\u001b[0m\u001b[0mxml3\u001b[0m\u001b[0;34m,\u001b[0m \u001b[0mencoding\u001b[0m \u001b[0;34m=\u001b[0m \u001b[0;34m'unicode'\u001b[0m\u001b[0;34m)\u001b[0m\u001b[0;34m)\u001b[0m\u001b[0;34m\u001b[0m\u001b[0m\n",
        "\u001b[0;31mNameError\u001b[0m: name 'etree' is not defined"
       ]
      }
     ],
     "prompt_number": 3
    },
    {
     "cell_type": "markdown",
     "metadata": {},
     "source": [
      "But notice how much extra stuff is in that parsed xml that we don't want.  This is where the statements that we talked about above in the __Parsing XML__ section come in handy.\n",
      "So now it is your turn.  Take the xml3 variable we defined above and extract only the text of the biblical verses that are contained on that page."
     ]
    },
    {
     "cell_type": "code",
     "collapsed": false,
     "input": [
      "from lxml import etree\n",
      "xml3 = etree.parse('http://www.bibelwissenschaft.de/online-bibeln/menge-bibel/bibeltext/', parser = etree.HTMLParser())\n",
      "\n",
      "#insert your code here.\n",
      "def extract_verses_from_buhbibelmodul_div(xml_element):\n",
      "    spans = xml_element.xpath(\"//span[@class='verse']\")\n",
      "    result = []\n",
      "    for span in spans: \n",
      "        result.append(list(span.getparent().itertext()))\n",
      "    return result\n",
      "\n",
      "def print_all_verses_of_chapter(source):\n",
      "    biblecontent_elements = source.xpath(\"//div[@class='buhbibelmodul main']/div[@class='markdown ']\")\n",
      "    print(extract_verses_from_buhbibelmodul_div(biblecontent_elements[0]))\n",
      "    \n",
      "print_all_verses_of_chapter(xml3)"
     ],
     "language": "python",
     "metadata": {},
     "outputs": [
      {
       "output_type": "stream",
       "stream": "stdout",
       "text": [
        "[['1', '1', 'Im Anfang schuf Gott den Himmel und die Erde;  '], ['2', 'die Erde war aber eine W\u00fcstenei und \u00d6de, und Finsternis lag \u00fcber der weiten Flut', ' (=\\xa0dem Urmeer)', ', und der Geist Gottes schwebte (br\u00fctend) \u00fcber der Wasserfl\u00e4che.', 'A', '  '], ['3', 'Da sprach Gott: \u00bbEs werde Licht!\u00ab, und es ward Licht.  '], ['4', 'Und Gott sah, da\u00df das Licht gut war; da schied Gott das Licht von der Finsternis  '], ['5', 'und nannte das Licht \u00bbTag\u00ab, der Finsternis aber gab er den Namen \u00bbNacht\u00ab. Und es wurde Abend und wurde Morgen: erster Tag.'], ['6', 'Dann sprach Gott: \u00bbEs entstehe ein festes Gew\u00f6lbe inmitten der Wasser und bilde eine Scheidewand zwischen den beiderseitigen Wassern!\u00ab Und es geschah so.  '], ['7', 'So machte Gott das feste Gew\u00f6lbe und schied dadurch die Wasser unterhalb des Gew\u00f6lbes von den Wassern oberhalb des Gew\u00f6lbes.  '], ['8', 'Und Gott nannte das feste Gew\u00f6lbe \u00bbHimmel\u00ab. Und es wurde Abend und wurde Morgen: zweiter Tag.'], ['9', 'Dann sprach Gott: \u00bbEs sammle sich das Wasser unterhalb des Himmels an einen besonderen Ort, damit das Trockene', ' (=\\xa0das feste Land)', ' sichtbar wird!\u00ab Und es geschah so.  '], ['10', 'Und Gott nannte das Trockene \u00bbErde\u00ab', ' (oder: \u00bbLand\u00ab)', ', dem Wasser aber, das sich gesammelt hatte, gab er den Namen \u00bbMeer\u00ab', ' (d.h. Weltmeer)', '. Und Gott sah, da\u00df es gut war.\\xa0\u2013  '], ['11', 'Dann sprach Gott: \u00bbDie Erde lasse junges Gr\u00fcn sprossen, samentragende Pflanzen und B\u00e4ume, die je nach ihrer Art Fr\u00fcchte mit Samen darin auf der Erde tragen!\u00ab Und es geschah so:  '], ['12', 'die Erde lie\u00df junges Gr\u00fcn hervorgehen, Kr\u00e4uter, die je nach ihrer Art Samen trugen, und B\u00e4ume, die Fr\u00fcchte mit Samen darin je nach ihrer Art trugen. Und Gott sah, da\u00df es gut war.  '], ['13', 'Und es wurde Abend und wurde Morgen: dritter Tag.'], ['14', 'Dann sprach Gott: \u00bbEs sollen Lichter', ' (oder: Leuchten)', ' am Himmelsgew\u00f6lbe entstehen, um Tag und Nacht voneinander zu scheiden; die sollen Merkzeichen sein und zur (Bestimmung von) Festzeiten sowie zur (Z\u00e4hlung von) Tagen und Jahren dienen;  '], ['15', 'und sie sollen Lichter', ' (oder: Leuchten)', ' am Himmelsgew\u00f6lbe sein, um Licht \u00fcber die Erde zu verbreiten!\u00ab Und es geschah so.  '], ['16', 'Da machte Gott die beiden gro\u00dfen Lichter: das gr\u00f6\u00dfere Licht zur Herrschaft \u00fcber den Tag und das kleinere Licht zur Herrschaft \u00fcber die Nacht, dazu auch die Sterne.  '], ['17', 'Gott setzte sie dann an das Himmelsgew\u00f6lbe, damit sie Licht \u00fcber die Erde verbreiteten  '], ['18', 'und am Tage und in der Nacht die Herrschaft f\u00fchrten und das Licht von der Finsternis schieden. Und Gott sah, da\u00df es gut war.  '], ['19', 'Und es wurde Abend und wurde Morgen: vierter Tag.'], ['20', 'Dann sprach Gott: \u00bbEs wimmle das Wasser von einem Gewimmel lebender Wesen, und V\u00f6gel sollen \u00fcber der Erde am Himmelsgew\u00f6lbe hin fliegen!\u00ab  '], ['21', 'Da schuf Gott die gro\u00dfen Seetiere und alle Arten der kleinen Lebewesen, die da sich regen, von denen die Gew\u00e4sser wimmeln, dazu alle Arten der beschwingten V\u00f6gel. Und Gott sah, da\u00df es gut war.  '], ['22', 'Da segnete Gott sie mit den Worten: \u00bbSeid fruchtbar und mehret euch und erf\u00fcllet das Wasser in den Meeren, und auch die V\u00f6gel sollen sich auf der Erde mehren!\u00ab  '], ['23', 'Und es wurde Abend und wurde Morgen: f\u00fcnfter Tag.'], ['24', 'Dann sprach Gott: \u00bbDie Erde bringe alle Arten lebender Wesen hervor, Vieh, Kriechgetier', ' (oder: Gew\u00fcrm)', ' und wilde Landtiere, jedes nach seiner Art!\u00ab Und es geschah so.  '], ['25', 'Da machte Gott alle Arten der wilden Landtiere und alle Arten des Viehs und alles Getier, das auf dem Erdboden kriecht, jedes nach seiner Art. Und Gott sah, da\u00df es gut war.\\xa0\u2013  '], ['26', 'Dann sprach Gott: \u00bbLa\u00dft uns Menschen machen nach unserm Bilde, uns \u00e4hnlich, die da herrschen sollen \u00fcber die Fische im Meer und \u00fcber die V\u00f6gel des Himmels, \u00fcber das (zahme) Vieh und \u00fcber alle (wilden) Landtiere und \u00fcber alles Gew\u00fcrm, das auf dem Erdboden kriecht!\u00ab  '], ['27', 'Da schuf Gott den Menschen nach seinem Bilde: nach dem Bilde Gottes schuf er ihn; als Mann und Weib schuf er sie.  '], ['28', 'Gott segnete sie dann mit den Worten: \u00bbSeid fruchtbar und mehrt euch, f\u00fcllt die Erde an und macht sie euch untertan und herrscht \u00fcber die Fische im Meer und \u00fcber die V\u00f6gel des Himmels und \u00fcber alle Lebewesen, die auf der Erde sich regen!\u00ab  '], ['29', 'Dann fuhr Gott fort: \u00bbHiermit \u00fcbergebe ich euch alle samentragenden Pflanzen auf der ganzen Erde und alle B\u00e4ume mit samentragenden Fr\u00fcchten: die sollen euch zur Nahrung dienen!  '], ['30', 'Aber allen Tieren der Erde und allen V\u00f6geln des Himmels und allem, was auf der Erde kriecht, was Lebensodem in sich hat, weise ich alles gr\u00fcne Kraut der Pflanzen zur Nahrung an.\u00ab Und es geschah so.  '], ['31', 'Und Gott sah alles an, was er geschaffen hatte, und siehe: es war sehr gut. Und es wurde Abend und wurde Morgen: der sechste Tag.']]\n"
       ]
      }
     ],
     "prompt_number": 5
    },
    {
     "cell_type": "markdown",
     "metadata": {},
     "source": [
      "When you are done with that, figure out how to make `lxml` go automatically to the next page (containing Genesis chapter 2) and extract the biblical text from that page as well."
     ]
    },
    {
     "cell_type": "code",
     "collapsed": false,
     "input": [
      "#insert your code here\n",
      "current_chapter = int(xml3.xpath(\"//nav[@class='chapter']/h5[@class='js-navToggle']/span\")[0].text)\n",
      "next_chapter = current_chapter + 1\n",
      "navigation = xml3.xpath(\"//ul[@id='chapterNav']//a\")\n",
      "#print(navigation[next_chapter -1].text)\n",
      "link_to_next_chapter = navigation[next_chapter -1].get('href')\n",
      "print_all_verses_of_chapter(etree.parse(link_to_next_chapter, parser = etree.HTMLParser()))\n"
     ],
     "language": "python",
     "metadata": {},
     "outputs": [
      {
       "output_type": "stream",
       "stream": "stdout",
       "text": [
        "[['2', '1', 'So waren der Himmel und die Erde mit ihrem ganzen Heer vollendet.  '], ['2', 'Da brachte Gott am siebten Tage sein Werk, das er geschaffen hatte, zur Vollendung und ruhte am siebten Tage von aller seiner Arbeit, die er vollbracht hatte.  '], ['3', 'Und Gott segnete den siebten Tag und heiligte ihn; denn an ihm hat Gott von seinem ganzen Sch\u00f6pfungswerk und seiner Arbeit geruht.  '], ['4', 'a Dies ist die Entstehungsgeschichte des Himmels und der Erde, als sie geschaffen wurden.'], ['5', 'als es auf der Erde noch keine Str\u00e4ucher auf dem Felde gab und noch keine Pflanzen auf den Fluren gewachsen waren, weil Gott der HERR noch keinen Regen auf die Erde hatte fallen lassen und auch noch keine Menschen da waren, um den Ackerboden zu bestellen\\xa0\u2013  '], ['6', 'es stieg aber ein Wasserdunst von der Erde auf und tr\u00e4nkte die ganze Oberfl\u00e4che des Erdbodens \u2013:  '], ['7', 'da bildete Gott der HERR den Menschen aus Erde vom Ackerboden und blies ihm den Lebensodem in die Nase; so wurde der Mensch zu einem lebenden Wesen.'], ['8', 'Hierauf pflanzte Gott der HERR einen Garten in Eden nach Osten hin und versetzte dorthin den Menschen, den er gebildet hatte.  '], ['9', 'Dann lie\u00df Gott der HERR allerlei B\u00e4ume aus dem Erdboden hervorwachsen, die lieblich anzusehen waren und wohlschmeckende Fr\u00fcchte trugen, dazu auch den Baum des Lebens mitten im Garten und den Baum der Erkenntnis des Guten und des B\u00f6sen', ' (oder: von Gut und B\u00f6se)', '.'], ['10', 'Es entsprang aber ein Strom in Eden, um den Garten zu bew\u00e4ssern, und teilte sich von dort aus, und zwar in vier Arme.  '], ['11', 'Der erste hei\u00dft Pison: dieser ist es, der das ganze Land Hawila umflie\u00dft, woselbst sich das Gold findet,  '], ['12', 'und das Gold dieses Landes ist kostbar', ' (oder: gediegen)', '; dort kommt auch das Bedolachharz', ' (=\\xa0Edelharz)', ' vor und der Edelstein Soham', ' (=\\xa0Chrysopras?)', '.  '], ['13', 'Der zweite Strom hei\u00dft Gihon: dieser ist es, der das ganze Land Kusch', ' (=\\xa0\u00c4thiopien)', ' umflie\u00dft.  '], ['14', 'Der dritte Strom hei\u00dft Hiddekel', ' (=\\xa0Tigris)', ': dieser ist es, der \u00f6stlich von Assyrien flie\u00dft; und der vierte Strom ist der Euphrat.'], ['15', 'Als nun Gott der HERR den Menschen genommen und ihn in den Garten Eden versetzt hatte, damit er ihn bestelle und beh\u00fcte,  '], ['16', 'gab Gott der HERR dem Menschen die Weisung: \u00bbVon allen B\u00e4umen des Gartens darfst du nach Belieben essen;  '], ['17', 'aber vom Baum der Erkenntnis des Guten und des B\u00f6sen \u2013 von dem darfst du nicht essen; denn sobald du von diesem i\u00dft, mu\u00dft du des Todes sterben.\u00ab'], ['18', 'Hierauf sagte Gott der HERR: \u00bbEs ist nicht gut f\u00fcr den Menschen, da\u00df er allein ist: ich will ihm eine Hilfe', 'A', ' schaffen, die zu ihm pa\u00dft', ' (oder: ihm zur Seite stehe)', '.\u00ab  '], ['19', 'Da bildete Gott der HERR aus Erde alle Tiere des Feldes und alle V\u00f6gel des Himmels und brachte sie zu dem Menschen, um zu sehen, wie er sie benennen w\u00fcrde; und wie der Mensch sie alle', ' (=\\xa0jedes einzelne)', ' benennen w\u00fcrde, so sollten sie hei\u00dfen.  '], ['20', 'So legte denn der Mensch allem Vieh', ' (=\\xa0allen zahmen Tieren)', ' und den V\u00f6geln des Himmels und allen wilden Tieren Namen bei; aber f\u00fcr einen Menschen fand er keine Hilfe', ' (oder: Gehilfin)', ' darunter, die zu ihm gepa\u00dft h\u00e4tte', ' (vgl. ', 'V.18).'], ['21', 'Da lie\u00df Gott der HERR einen tiefen Schlaf auf den Menschen fallen, so da\u00df er einschlief; dann nahm er eine von seinen Rippen heraus und verschlo\u00df deren Stelle wieder mit Fleisch;  '], ['22', 'die Rippe aber, die Gott aus dem Menschen genommen hatte, gestaltete er zu einem Weibe und f\u00fchrte dieses dem Menschen zu.  '], ['23', 'Da rief der Mensch aus: \u00bbDiese endlich ist es: Gebein von meinem Gebein und Fleisch von meinem Fleisch! Diese soll \u203aM\u00e4nnin\u2039', 'A', ' hei\u00dfen; denn vom Manne ist diese genommen.\u00ab  '], ['24', 'Darum verl\u00e4\u00dft ein Mann seinen Vater und seine Mutter und h\u00e4ngt seinem Weibe an, und sie werden ein Fleisch sein.  '], ['25', 'Und sie waren beide nackt, der Mensch', ' (oder: Mann)', ' und sein Weib, und doch sch\u00e4mten sie sich nicht (voreinander).']]\n"
       ]
      }
     ],
     "prompt_number": 6
    },
    {
     "cell_type": "markdown",
     "metadata": {},
     "source": [
      "Now you can scrape the web for information using Python and `lxml`.  Now find a web page that has a text or a collection of texts that are interested for your class project and extract as many of the texts as you can, saving them preferably as individual files (though not on a public Github repository unless you are sure that the license of the website allows for that)."
     ]
    }
   ],
   "metadata": {}
  }
 ]
}